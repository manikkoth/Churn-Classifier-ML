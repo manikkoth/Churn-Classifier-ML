{
 "cells": [
  {
   "cell_type": "code",
   "execution_count": 1,
   "metadata": {},
   "outputs": [],
   "source": [
    "import pandas as pd\n",
    "import numpy as np\n",
    "import matplotlib.pyplot as plt\n",
    "%matplotlib inline"
   ]
  },
  {
   "cell_type": "code",
   "execution_count": 128,
   "metadata": {},
   "outputs": [],
   "source": [
    "from sklearn.linear_model import LogisticRegression, LogisticRegressionCV"
   ]
  },
  {
   "cell_type": "code",
   "execution_count": 9,
   "metadata": {},
   "outputs": [],
   "source": [
    "from sklearn.metrics import confusion_matrix, classification_report"
   ]
  },
  {
   "cell_type": "code",
   "execution_count": 11,
   "metadata": {},
   "outputs": [],
   "source": [
    "df_train = pd.read_csv('C:/Users/Administrator/Desktop/PM/ChurnData.csv')"
   ]
  },
  {
   "cell_type": "code",
   "execution_count": 13,
   "metadata": {},
   "outputs": [
    {
     "data": {
      "text/html": [
       "<div>\n",
       "<style scoped>\n",
       "    .dataframe tbody tr th:only-of-type {\n",
       "        vertical-align: middle;\n",
       "    }\n",
       "\n",
       "    .dataframe tbody tr th {\n",
       "        vertical-align: top;\n",
       "    }\n",
       "\n",
       "    .dataframe thead th {\n",
       "        text-align: right;\n",
       "    }\n",
       "</style>\n",
       "<table border=\"1\" class=\"dataframe\">\n",
       "  <thead>\n",
       "    <tr style=\"text-align: right;\">\n",
       "      <th></th>\n",
       "      <th>Unnamed: 0</th>\n",
       "      <th>state</th>\n",
       "      <th>account_length</th>\n",
       "      <th>area_code</th>\n",
       "      <th>international_plan</th>\n",
       "      <th>voice_mail_plan</th>\n",
       "      <th>number_vmail_messages</th>\n",
       "      <th>total_day_minutes</th>\n",
       "      <th>total_day_calls</th>\n",
       "      <th>total_day_charge</th>\n",
       "      <th>...</th>\n",
       "      <th>total_eve_calls</th>\n",
       "      <th>total_eve_charge</th>\n",
       "      <th>total_night_minutes</th>\n",
       "      <th>total_night_calls</th>\n",
       "      <th>total_night_charge</th>\n",
       "      <th>total_intl_minutes</th>\n",
       "      <th>total_intl_calls</th>\n",
       "      <th>total_intl_charge</th>\n",
       "      <th>number_customer_service_calls</th>\n",
       "      <th>churn</th>\n",
       "    </tr>\n",
       "  </thead>\n",
       "  <tbody>\n",
       "    <tr>\n",
       "      <th>0</th>\n",
       "      <td>1</td>\n",
       "      <td>KS</td>\n",
       "      <td>128</td>\n",
       "      <td>area_code_415</td>\n",
       "      <td>no</td>\n",
       "      <td>yes</td>\n",
       "      <td>25</td>\n",
       "      <td>265.1</td>\n",
       "      <td>110</td>\n",
       "      <td>45.07</td>\n",
       "      <td>...</td>\n",
       "      <td>99</td>\n",
       "      <td>16.78</td>\n",
       "      <td>244.7</td>\n",
       "      <td>91</td>\n",
       "      <td>11.01</td>\n",
       "      <td>10.0</td>\n",
       "      <td>3</td>\n",
       "      <td>2.70</td>\n",
       "      <td>1</td>\n",
       "      <td>no</td>\n",
       "    </tr>\n",
       "    <tr>\n",
       "      <th>1</th>\n",
       "      <td>2</td>\n",
       "      <td>OH</td>\n",
       "      <td>107</td>\n",
       "      <td>area_code_415</td>\n",
       "      <td>no</td>\n",
       "      <td>yes</td>\n",
       "      <td>26</td>\n",
       "      <td>161.6</td>\n",
       "      <td>123</td>\n",
       "      <td>27.47</td>\n",
       "      <td>...</td>\n",
       "      <td>103</td>\n",
       "      <td>16.62</td>\n",
       "      <td>254.4</td>\n",
       "      <td>103</td>\n",
       "      <td>11.45</td>\n",
       "      <td>13.7</td>\n",
       "      <td>3</td>\n",
       "      <td>3.70</td>\n",
       "      <td>1</td>\n",
       "      <td>no</td>\n",
       "    </tr>\n",
       "    <tr>\n",
       "      <th>2</th>\n",
       "      <td>3</td>\n",
       "      <td>NJ</td>\n",
       "      <td>137</td>\n",
       "      <td>area_code_415</td>\n",
       "      <td>no</td>\n",
       "      <td>no</td>\n",
       "      <td>0</td>\n",
       "      <td>243.4</td>\n",
       "      <td>114</td>\n",
       "      <td>41.38</td>\n",
       "      <td>...</td>\n",
       "      <td>110</td>\n",
       "      <td>10.30</td>\n",
       "      <td>162.6</td>\n",
       "      <td>104</td>\n",
       "      <td>7.32</td>\n",
       "      <td>12.2</td>\n",
       "      <td>5</td>\n",
       "      <td>3.29</td>\n",
       "      <td>0</td>\n",
       "      <td>no</td>\n",
       "    </tr>\n",
       "    <tr>\n",
       "      <th>3</th>\n",
       "      <td>4</td>\n",
       "      <td>OH</td>\n",
       "      <td>84</td>\n",
       "      <td>area_code_408</td>\n",
       "      <td>yes</td>\n",
       "      <td>no</td>\n",
       "      <td>0</td>\n",
       "      <td>299.4</td>\n",
       "      <td>71</td>\n",
       "      <td>50.90</td>\n",
       "      <td>...</td>\n",
       "      <td>88</td>\n",
       "      <td>5.26</td>\n",
       "      <td>196.9</td>\n",
       "      <td>89</td>\n",
       "      <td>8.86</td>\n",
       "      <td>6.6</td>\n",
       "      <td>7</td>\n",
       "      <td>1.78</td>\n",
       "      <td>2</td>\n",
       "      <td>no</td>\n",
       "    </tr>\n",
       "    <tr>\n",
       "      <th>4</th>\n",
       "      <td>5</td>\n",
       "      <td>OK</td>\n",
       "      <td>75</td>\n",
       "      <td>area_code_415</td>\n",
       "      <td>yes</td>\n",
       "      <td>no</td>\n",
       "      <td>0</td>\n",
       "      <td>166.7</td>\n",
       "      <td>113</td>\n",
       "      <td>28.34</td>\n",
       "      <td>...</td>\n",
       "      <td>122</td>\n",
       "      <td>12.61</td>\n",
       "      <td>186.9</td>\n",
       "      <td>121</td>\n",
       "      <td>8.41</td>\n",
       "      <td>10.1</td>\n",
       "      <td>3</td>\n",
       "      <td>2.73</td>\n",
       "      <td>3</td>\n",
       "      <td>no</td>\n",
       "    </tr>\n",
       "  </tbody>\n",
       "</table>\n",
       "<p>5 rows × 21 columns</p>\n",
       "</div>"
      ],
      "text/plain": [
       "   Unnamed: 0 state  account_length      area_code international_plan  \\\n",
       "0           1    KS             128  area_code_415                 no   \n",
       "1           2    OH             107  area_code_415                 no   \n",
       "2           3    NJ             137  area_code_415                 no   \n",
       "3           4    OH              84  area_code_408                yes   \n",
       "4           5    OK              75  area_code_415                yes   \n",
       "\n",
       "  voice_mail_plan  number_vmail_messages  total_day_minutes  total_day_calls  \\\n",
       "0             yes                     25              265.1              110   \n",
       "1             yes                     26              161.6              123   \n",
       "2              no                      0              243.4              114   \n",
       "3              no                      0              299.4               71   \n",
       "4              no                      0              166.7              113   \n",
       "\n",
       "   total_day_charge  ...    total_eve_calls  total_eve_charge  \\\n",
       "0             45.07  ...                 99             16.78   \n",
       "1             27.47  ...                103             16.62   \n",
       "2             41.38  ...                110             10.30   \n",
       "3             50.90  ...                 88              5.26   \n",
       "4             28.34  ...                122             12.61   \n",
       "\n",
       "   total_night_minutes  total_night_calls  total_night_charge  \\\n",
       "0                244.7                 91               11.01   \n",
       "1                254.4                103               11.45   \n",
       "2                162.6                104                7.32   \n",
       "3                196.9                 89                8.86   \n",
       "4                186.9                121                8.41   \n",
       "\n",
       "   total_intl_minutes  total_intl_calls  total_intl_charge  \\\n",
       "0                10.0                 3               2.70   \n",
       "1                13.7                 3               3.70   \n",
       "2                12.2                 5               3.29   \n",
       "3                 6.6                 7               1.78   \n",
       "4                10.1                 3               2.73   \n",
       "\n",
       "   number_customer_service_calls  churn  \n",
       "0                              1     no  \n",
       "1                              1     no  \n",
       "2                              0     no  \n",
       "3                              2     no  \n",
       "4                              3     no  \n",
       "\n",
       "[5 rows x 21 columns]"
      ]
     },
     "execution_count": 13,
     "metadata": {},
     "output_type": "execute_result"
    }
   ],
   "source": [
    "df_train.head(5)"
   ]
  },
  {
   "cell_type": "code",
   "execution_count": 14,
   "metadata": {},
   "outputs": [],
   "source": [
    "del df_train['Unnamed: 0']"
   ]
  },
  {
   "cell_type": "code",
   "execution_count": 15,
   "metadata": {},
   "outputs": [
    {
     "data": {
      "text/html": [
       "<div>\n",
       "<style scoped>\n",
       "    .dataframe tbody tr th:only-of-type {\n",
       "        vertical-align: middle;\n",
       "    }\n",
       "\n",
       "    .dataframe tbody tr th {\n",
       "        vertical-align: top;\n",
       "    }\n",
       "\n",
       "    .dataframe thead th {\n",
       "        text-align: right;\n",
       "    }\n",
       "</style>\n",
       "<table border=\"1\" class=\"dataframe\">\n",
       "  <thead>\n",
       "    <tr style=\"text-align: right;\">\n",
       "      <th></th>\n",
       "      <th>state</th>\n",
       "      <th>account_length</th>\n",
       "      <th>area_code</th>\n",
       "      <th>international_plan</th>\n",
       "      <th>voice_mail_plan</th>\n",
       "      <th>number_vmail_messages</th>\n",
       "      <th>total_day_minutes</th>\n",
       "      <th>total_day_calls</th>\n",
       "      <th>total_day_charge</th>\n",
       "      <th>total_eve_minutes</th>\n",
       "      <th>total_eve_calls</th>\n",
       "      <th>total_eve_charge</th>\n",
       "      <th>total_night_minutes</th>\n",
       "      <th>total_night_calls</th>\n",
       "      <th>total_night_charge</th>\n",
       "      <th>total_intl_minutes</th>\n",
       "      <th>total_intl_calls</th>\n",
       "      <th>total_intl_charge</th>\n",
       "      <th>number_customer_service_calls</th>\n",
       "      <th>churn</th>\n",
       "    </tr>\n",
       "  </thead>\n",
       "  <tbody>\n",
       "    <tr>\n",
       "      <th>0</th>\n",
       "      <td>KS</td>\n",
       "      <td>128</td>\n",
       "      <td>area_code_415</td>\n",
       "      <td>no</td>\n",
       "      <td>yes</td>\n",
       "      <td>25</td>\n",
       "      <td>265.1</td>\n",
       "      <td>110</td>\n",
       "      <td>45.07</td>\n",
       "      <td>197.4</td>\n",
       "      <td>99</td>\n",
       "      <td>16.78</td>\n",
       "      <td>244.7</td>\n",
       "      <td>91</td>\n",
       "      <td>11.01</td>\n",
       "      <td>10.0</td>\n",
       "      <td>3</td>\n",
       "      <td>2.70</td>\n",
       "      <td>1</td>\n",
       "      <td>no</td>\n",
       "    </tr>\n",
       "    <tr>\n",
       "      <th>1</th>\n",
       "      <td>OH</td>\n",
       "      <td>107</td>\n",
       "      <td>area_code_415</td>\n",
       "      <td>no</td>\n",
       "      <td>yes</td>\n",
       "      <td>26</td>\n",
       "      <td>161.6</td>\n",
       "      <td>123</td>\n",
       "      <td>27.47</td>\n",
       "      <td>195.5</td>\n",
       "      <td>103</td>\n",
       "      <td>16.62</td>\n",
       "      <td>254.4</td>\n",
       "      <td>103</td>\n",
       "      <td>11.45</td>\n",
       "      <td>13.7</td>\n",
       "      <td>3</td>\n",
       "      <td>3.70</td>\n",
       "      <td>1</td>\n",
       "      <td>no</td>\n",
       "    </tr>\n",
       "    <tr>\n",
       "      <th>2</th>\n",
       "      <td>NJ</td>\n",
       "      <td>137</td>\n",
       "      <td>area_code_415</td>\n",
       "      <td>no</td>\n",
       "      <td>no</td>\n",
       "      <td>0</td>\n",
       "      <td>243.4</td>\n",
       "      <td>114</td>\n",
       "      <td>41.38</td>\n",
       "      <td>121.2</td>\n",
       "      <td>110</td>\n",
       "      <td>10.30</td>\n",
       "      <td>162.6</td>\n",
       "      <td>104</td>\n",
       "      <td>7.32</td>\n",
       "      <td>12.2</td>\n",
       "      <td>5</td>\n",
       "      <td>3.29</td>\n",
       "      <td>0</td>\n",
       "      <td>no</td>\n",
       "    </tr>\n",
       "    <tr>\n",
       "      <th>3</th>\n",
       "      <td>OH</td>\n",
       "      <td>84</td>\n",
       "      <td>area_code_408</td>\n",
       "      <td>yes</td>\n",
       "      <td>no</td>\n",
       "      <td>0</td>\n",
       "      <td>299.4</td>\n",
       "      <td>71</td>\n",
       "      <td>50.90</td>\n",
       "      <td>61.9</td>\n",
       "      <td>88</td>\n",
       "      <td>5.26</td>\n",
       "      <td>196.9</td>\n",
       "      <td>89</td>\n",
       "      <td>8.86</td>\n",
       "      <td>6.6</td>\n",
       "      <td>7</td>\n",
       "      <td>1.78</td>\n",
       "      <td>2</td>\n",
       "      <td>no</td>\n",
       "    </tr>\n",
       "    <tr>\n",
       "      <th>4</th>\n",
       "      <td>OK</td>\n",
       "      <td>75</td>\n",
       "      <td>area_code_415</td>\n",
       "      <td>yes</td>\n",
       "      <td>no</td>\n",
       "      <td>0</td>\n",
       "      <td>166.7</td>\n",
       "      <td>113</td>\n",
       "      <td>28.34</td>\n",
       "      <td>148.3</td>\n",
       "      <td>122</td>\n",
       "      <td>12.61</td>\n",
       "      <td>186.9</td>\n",
       "      <td>121</td>\n",
       "      <td>8.41</td>\n",
       "      <td>10.1</td>\n",
       "      <td>3</td>\n",
       "      <td>2.73</td>\n",
       "      <td>3</td>\n",
       "      <td>no</td>\n",
       "    </tr>\n",
       "  </tbody>\n",
       "</table>\n",
       "</div>"
      ],
      "text/plain": [
       "  state  account_length      area_code international_plan voice_mail_plan  \\\n",
       "0    KS             128  area_code_415                 no             yes   \n",
       "1    OH             107  area_code_415                 no             yes   \n",
       "2    NJ             137  area_code_415                 no              no   \n",
       "3    OH              84  area_code_408                yes              no   \n",
       "4    OK              75  area_code_415                yes              no   \n",
       "\n",
       "   number_vmail_messages  total_day_minutes  total_day_calls  \\\n",
       "0                     25              265.1              110   \n",
       "1                     26              161.6              123   \n",
       "2                      0              243.4              114   \n",
       "3                      0              299.4               71   \n",
       "4                      0              166.7              113   \n",
       "\n",
       "   total_day_charge  total_eve_minutes  total_eve_calls  total_eve_charge  \\\n",
       "0             45.07              197.4               99             16.78   \n",
       "1             27.47              195.5              103             16.62   \n",
       "2             41.38              121.2              110             10.30   \n",
       "3             50.90               61.9               88              5.26   \n",
       "4             28.34              148.3              122             12.61   \n",
       "\n",
       "   total_night_minutes  total_night_calls  total_night_charge  \\\n",
       "0                244.7                 91               11.01   \n",
       "1                254.4                103               11.45   \n",
       "2                162.6                104                7.32   \n",
       "3                196.9                 89                8.86   \n",
       "4                186.9                121                8.41   \n",
       "\n",
       "   total_intl_minutes  total_intl_calls  total_intl_charge  \\\n",
       "0                10.0                 3               2.70   \n",
       "1                13.7                 3               3.70   \n",
       "2                12.2                 5               3.29   \n",
       "3                 6.6                 7               1.78   \n",
       "4                10.1                 3               2.73   \n",
       "\n",
       "   number_customer_service_calls churn  \n",
       "0                              1    no  \n",
       "1                              1    no  \n",
       "2                              0    no  \n",
       "3                              2    no  \n",
       "4                              3    no  "
      ]
     },
     "execution_count": 15,
     "metadata": {},
     "output_type": "execute_result"
    }
   ],
   "source": [
    "df_train.head()"
   ]
  },
  {
   "cell_type": "code",
   "execution_count": 16,
   "metadata": {},
   "outputs": [
    {
     "name": "stdout",
     "output_type": "stream",
     "text": [
      "<class 'pandas.core.frame.DataFrame'>\n",
      "RangeIndex: 3333 entries, 0 to 3332\n",
      "Data columns (total 20 columns):\n",
      "state                            3333 non-null object\n",
      "account_length                   3333 non-null int64\n",
      "area_code                        3333 non-null object\n",
      "international_plan               3333 non-null object\n",
      "voice_mail_plan                  3333 non-null object\n",
      "number_vmail_messages            3333 non-null int64\n",
      "total_day_minutes                3333 non-null float64\n",
      "total_day_calls                  3333 non-null int64\n",
      "total_day_charge                 3333 non-null float64\n",
      "total_eve_minutes                3333 non-null float64\n",
      "total_eve_calls                  3333 non-null int64\n",
      "total_eve_charge                 3333 non-null float64\n",
      "total_night_minutes              3333 non-null float64\n",
      "total_night_calls                3333 non-null int64\n",
      "total_night_charge               3333 non-null float64\n",
      "total_intl_minutes               3333 non-null float64\n",
      "total_intl_calls                 3333 non-null int64\n",
      "total_intl_charge                3333 non-null float64\n",
      "number_customer_service_calls    3333 non-null int64\n",
      "churn                            3333 non-null object\n",
      "dtypes: float64(8), int64(7), object(5)\n",
      "memory usage: 520.9+ KB\n"
     ]
    }
   ],
   "source": [
    "df_train.info()"
   ]
  },
  {
   "cell_type": "code",
   "execution_count": 17,
   "metadata": {},
   "outputs": [
    {
     "data": {
      "text/plain": [
       "Index(['state', 'account_length', 'area_code', 'international_plan',\n",
       "       'voice_mail_plan', 'number_vmail_messages', 'total_day_minutes',\n",
       "       'total_day_calls', 'total_day_charge', 'total_eve_minutes',\n",
       "       'total_eve_calls', 'total_eve_charge', 'total_night_minutes',\n",
       "       'total_night_calls', 'total_night_charge', 'total_intl_minutes',\n",
       "       'total_intl_calls', 'total_intl_charge',\n",
       "       'number_customer_service_calls', 'churn'],\n",
       "      dtype='object')"
      ]
     },
     "execution_count": 17,
     "metadata": {},
     "output_type": "execute_result"
    }
   ],
   "source": [
    "df_train.columns"
   ]
  },
  {
   "cell_type": "code",
   "execution_count": 18,
   "metadata": {},
   "outputs": [],
   "source": [
    "x = np.array(df_train[['state', 'account_length', 'area_code', 'international_plan',\n",
    "       'voice_mail_plan', 'number_vmail_messages', 'total_day_minutes',\n",
    "       'total_day_calls', 'total_day_charge', 'total_eve_minutes',\n",
    "       'total_eve_calls', 'total_eve_charge', 'total_night_minutes',\n",
    "       'total_night_calls', 'total_night_charge', 'total_intl_minutes',\n",
    "       'total_intl_calls', 'total_intl_charge',\n",
    "       'number_customer_service_calls']])"
   ]
  },
  {
   "cell_type": "code",
   "execution_count": 20,
   "metadata": {},
   "outputs": [],
   "source": [
    "y = np.array(df_train['churn'])"
   ]
  },
  {
   "cell_type": "code",
   "execution_count": 21,
   "metadata": {},
   "outputs": [],
   "source": [
    "model = LogisticRegression()"
   ]
  },
  {
   "cell_type": "code",
   "execution_count": 23,
   "metadata": {},
   "outputs": [],
   "source": [
    "from sklearn.preprocessing import LabelEncoder"
   ]
  },
  {
   "cell_type": "code",
   "execution_count": 34,
   "metadata": {},
   "outputs": [],
   "source": [
    "tras = LabelEncoder()"
   ]
  },
  {
   "cell_type": "code",
   "execution_count": 43,
   "metadata": {},
   "outputs": [],
   "source": [
    "df_train['area_code_tr'] = tras.fit_transform(df_train['area_code'])"
   ]
  },
  {
   "cell_type": "code",
   "execution_count": 46,
   "metadata": {},
   "outputs": [
    {
     "data": {
      "text/plain": [
       "Index(['state', 'account_length', 'area_code', 'international_plan',\n",
       "       'voice_mail_plan', 'number_vmail_messages', 'total_day_minutes',\n",
       "       'total_day_calls', 'total_day_charge', 'total_eve_minutes',\n",
       "       'total_eve_calls', 'total_eve_charge', 'total_night_minutes',\n",
       "       'total_night_calls', 'total_night_charge', 'total_intl_minutes',\n",
       "       'total_intl_calls', 'total_intl_charge',\n",
       "       'number_customer_service_calls', 'churn', 'state_tr', 'area_code_tr'],\n",
       "      dtype='object')"
      ]
     },
     "execution_count": 46,
     "metadata": {},
     "output_type": "execute_result"
    }
   ],
   "source": [
    "df_train.columns"
   ]
  },
  {
   "cell_type": "code",
   "execution_count": 49,
   "metadata": {},
   "outputs": [],
   "source": [
    "del df_train['area_code']"
   ]
  },
  {
   "cell_type": "code",
   "execution_count": 50,
   "metadata": {},
   "outputs": [
    {
     "data": {
      "text/plain": [
       "Index(['account_length', 'international_plan', 'voice_mail_plan',\n",
       "       'number_vmail_messages', 'total_day_minutes', 'total_day_calls',\n",
       "       'total_day_charge', 'total_eve_minutes', 'total_eve_calls',\n",
       "       'total_eve_charge', 'total_night_minutes', 'total_night_calls',\n",
       "       'total_night_charge', 'total_intl_minutes', 'total_intl_calls',\n",
       "       'total_intl_charge', 'number_customer_service_calls', 'churn',\n",
       "       'state_tr', 'area_code_tr'],\n",
       "      dtype='object')"
      ]
     },
     "execution_count": 50,
     "metadata": {},
     "output_type": "execute_result"
    }
   ],
   "source": [
    "df_train.columns"
   ]
  },
  {
   "cell_type": "code",
   "execution_count": 101,
   "metadata": {},
   "outputs": [],
   "source": [
    "#df_dummies = pd.get_dummies(df_train,prefix=True,drop_first=True)"
   ]
  },
  {
   "cell_type": "code",
   "execution_count": 64,
   "metadata": {},
   "outputs": [],
   "source": [
    "df_train['target_churn_dum'] = pd.get_dummies(df_train.churn,prefix='churn',drop_first=True)"
   ]
  },
  {
   "cell_type": "code",
   "execution_count": 65,
   "metadata": {},
   "outputs": [
    {
     "data": {
      "text/plain": [
       "Index(['account_length', 'international_plan', 'voice_mail_plan',\n",
       "       'number_vmail_messages', 'total_day_minutes', 'total_day_calls',\n",
       "       'total_day_charge', 'total_eve_minutes', 'total_eve_calls',\n",
       "       'total_eve_charge', 'total_night_minutes', 'total_night_calls',\n",
       "       'total_night_charge', 'total_intl_minutes', 'total_intl_calls',\n",
       "       'total_intl_charge', 'number_customer_service_calls', 'churn',\n",
       "       'state_tr', 'area_code_tr', 'int_plan_dum', 'voic_mail_dum',\n",
       "       'target_churn_dum'],\n",
       "      dtype='object')"
      ]
     },
     "execution_count": 65,
     "metadata": {},
     "output_type": "execute_result"
    }
   ],
   "source": [
    "df_train.columns"
   ]
  },
  {
   "cell_type": "code",
   "execution_count": 66,
   "metadata": {},
   "outputs": [],
   "source": [
    "del df_train['international_plan']"
   ]
  },
  {
   "cell_type": "code",
   "execution_count": 67,
   "metadata": {},
   "outputs": [],
   "source": [
    "del df_train['voice_mail_plan']"
   ]
  },
  {
   "cell_type": "code",
   "execution_count": 68,
   "metadata": {},
   "outputs": [],
   "source": [
    "del df_train['churn']"
   ]
  },
  {
   "cell_type": "code",
   "execution_count": 69,
   "metadata": {},
   "outputs": [
    {
     "name": "stdout",
     "output_type": "stream",
     "text": [
      "<class 'pandas.core.frame.DataFrame'>\n",
      "RangeIndex: 3333 entries, 0 to 3332\n",
      "Data columns (total 20 columns):\n",
      "account_length                   3333 non-null int64\n",
      "number_vmail_messages            3333 non-null int64\n",
      "total_day_minutes                3333 non-null float64\n",
      "total_day_calls                  3333 non-null int64\n",
      "total_day_charge                 3333 non-null float64\n",
      "total_eve_minutes                3333 non-null float64\n",
      "total_eve_calls                  3333 non-null int64\n",
      "total_eve_charge                 3333 non-null float64\n",
      "total_night_minutes              3333 non-null float64\n",
      "total_night_calls                3333 non-null int64\n",
      "total_night_charge               3333 non-null float64\n",
      "total_intl_minutes               3333 non-null float64\n",
      "total_intl_calls                 3333 non-null int64\n",
      "total_intl_charge                3333 non-null float64\n",
      "number_customer_service_calls    3333 non-null int64\n",
      "state_tr                         3333 non-null int64\n",
      "area_code_tr                     3333 non-null int64\n",
      "int_plan_dum                     3333 non-null uint8\n",
      "voic_mail_dum                    3333 non-null uint8\n",
      "target_churn_dum                 3333 non-null uint8\n",
      "dtypes: float64(8), int64(9), uint8(3)\n",
      "memory usage: 452.5 KB\n"
     ]
    }
   ],
   "source": [
    "df_train.info()"
   ]
  },
  {
   "cell_type": "code",
   "execution_count": 70,
   "metadata": {},
   "outputs": [],
   "source": [
    "from sklearn.model_selection import train_test_split"
   ]
  },
  {
   "cell_type": "code",
   "execution_count": 71,
   "metadata": {},
   "outputs": [
    {
     "data": {
      "text/plain": [
       "Index(['account_length', 'number_vmail_messages', 'total_day_minutes',\n",
       "       'total_day_calls', 'total_day_charge', 'total_eve_minutes',\n",
       "       'total_eve_calls', 'total_eve_charge', 'total_night_minutes',\n",
       "       'total_night_calls', 'total_night_charge', 'total_intl_minutes',\n",
       "       'total_intl_calls', 'total_intl_charge',\n",
       "       'number_customer_service_calls', 'state_tr', 'area_code_tr',\n",
       "       'int_plan_dum', 'voic_mail_dum', 'target_churn_dum'],\n",
       "      dtype='object')"
      ]
     },
     "execution_count": 71,
     "metadata": {},
     "output_type": "execute_result"
    }
   ],
   "source": [
    "df_train.columns"
   ]
  },
  {
   "cell_type": "code",
   "execution_count": 74,
   "metadata": {},
   "outputs": [],
   "source": [
    "X = df_train[['account_length', 'number_vmail_messages', 'total_day_minutes',\n",
    "       'total_day_calls', 'total_day_charge', 'total_eve_minutes',\n",
    "       'total_eve_calls', 'total_eve_charge', 'total_night_minutes',\n",
    "       'total_night_calls', 'total_night_charge', 'total_intl_minutes',\n",
    "       'total_intl_calls', 'total_intl_charge',\n",
    "       'number_customer_service_calls', 'state_tr', 'area_code_tr',\n",
    "       'int_plan_dum', 'voic_mail_dum']]\n",
    "Y = df_train['target_churn_dum']"
   ]
  },
  {
   "cell_type": "code",
   "execution_count": 76,
   "metadata": {},
   "outputs": [],
   "source": [
    "xtrain,xtest,ytrain,ytest=train_test_split(X,Y,test_size=0.20)"
   ]
  },
  {
   "cell_type": "code",
   "execution_count": 77,
   "metadata": {},
   "outputs": [
    {
     "data": {
      "text/plain": [
       "((2666, 19), (667, 19), (2666,), (667,))"
      ]
     },
     "execution_count": 77,
     "metadata": {},
     "output_type": "execute_result"
    }
   ],
   "source": [
    "xtrain.shape,xtest.shape,ytrain.shape,ytest.shape"
   ]
  },
  {
   "cell_type": "code",
   "execution_count": 78,
   "metadata": {},
   "outputs": [],
   "source": [
    "model = LogisticRegression()"
   ]
  },
  {
   "cell_type": "code",
   "execution_count": 82,
   "metadata": {},
   "outputs": [
    {
     "data": {
      "text/plain": [
       "LogisticRegression(C=1.0, class_weight=None, dual=False, fit_intercept=True,\n",
       "          intercept_scaling=1, max_iter=100, multi_class='ovr', n_jobs=1,\n",
       "          penalty='l2', random_state=None, solver='liblinear', tol=0.0001,\n",
       "          verbose=0, warm_start=False)"
      ]
     },
     "execution_count": 82,
     "metadata": {},
     "output_type": "execute_result"
    }
   ],
   "source": [
    "model.fit(xtrain,ytrain)"
   ]
  },
  {
   "cell_type": "code",
   "execution_count": 83,
   "metadata": {},
   "outputs": [
    {
     "data": {
      "text/plain": [
       "0.8555888972243061"
      ]
     },
     "execution_count": 83,
     "metadata": {},
     "output_type": "execute_result"
    }
   ],
   "source": [
    "model.score(xtrain,ytrain) #training accuracy"
   ]
  },
  {
   "cell_type": "code",
   "execution_count": 85,
   "metadata": {},
   "outputs": [
    {
     "data": {
      "text/plain": [
       "0.8770614692653673"
      ]
     },
     "execution_count": 85,
     "metadata": {},
     "output_type": "execute_result"
    }
   ],
   "source": [
    "model.score(xtest,ytest) # test accuracy"
   ]
  },
  {
   "cell_type": "code",
   "execution_count": 93,
   "metadata": {},
   "outputs": [],
   "source": [
    "temp = model.predict_proba(xtest)"
   ]
  },
  {
   "cell_type": "code",
   "execution_count": 103,
   "metadata": {},
   "outputs": [],
   "source": [
    "# predicted value 0 means 'no churn'\n",
    "# predicted value 1 means 'churn'"
   ]
  },
  {
   "cell_type": "code",
   "execution_count": 114,
   "metadata": {},
   "outputs": [
    {
     "data": {
      "text/plain": [
       "array([ 0.74945678,  0.95822995,  0.45905366,  0.45117729,  0.93219456,\n",
       "        0.93187313,  0.7857715 ,  0.91162705,  0.75456912,  0.96040668,\n",
       "        0.85973109,  0.82247041,  0.74339232,  0.9224642 ,  0.89366118,\n",
       "        0.93572488,  0.8929282 ,  0.79537227,  0.83918137,  0.62532582,\n",
       "        0.72073179,  0.07597114,  0.61728521,  0.59189076,  0.92613616,\n",
       "        0.88267905,  0.59965675,  0.03852792,  0.90966833, -0.3156803 ,\n",
       "        0.91255483,  0.75031193,  0.98119328, -0.06826902, -0.70722719,\n",
       "        0.80836128,  0.58475429,  0.74865779,  0.85508482,  0.87071358,\n",
       "        0.85401398,  0.74466586,  0.93947039,  0.79535922,  0.88893061,\n",
       "        0.70052142,  0.85822166,  0.78234956,  0.89630117,  0.53761303,\n",
       "        0.888282  ,  0.87136653,  0.27428995,  0.9200331 , -0.82832016,\n",
       "        0.57712664,  0.09100522,  0.92278649,  0.73229187,  0.35437951,\n",
       "        0.86649033,  0.91119237,  0.68835938,  0.57177629,  0.96537365,\n",
       "        0.97179054,  0.76975238,  0.43527139,  0.93643564, -0.38742733,\n",
       "        0.94262648,  0.90676878,  0.76506977,  0.96267412,  0.69858582,\n",
       "        0.70728689,  0.67512125,  0.90609416,  0.95872377,  0.97040478,\n",
       "       -0.39791072,  0.52627815,  0.96342539,  0.96618552,  0.91367979,\n",
       "        0.89732408,  0.69859938,  0.77800068,  0.8759077 ,  0.85616907,\n",
       "        0.47917823, -0.73930261,  0.61793652,  0.03015526,  0.88744393,\n",
       "       -0.25423114,  0.51418824,  0.82603424,  0.85078203,  0.26193914,\n",
       "        0.04562394,  0.82965631,  0.58140679,  0.90350353,  0.91256825,\n",
       "        0.93414035,  0.61469744,  0.854248  ,  0.80495996,  0.83965685,\n",
       "        0.97595873, -0.06080611,  0.84190869,  0.77490331, -0.06110961,\n",
       "        0.66097783,  0.96709769,  0.80886672,  0.92384015, -0.4142596 ,\n",
       "        0.50519564,  0.76708574,  0.09436399,  0.75784325,  0.95005439,\n",
       "        0.79677386,  0.90801381,  0.38929708,  0.98322517,  0.83673869,\n",
       "       -0.2245505 ,  0.87359172,  0.79320978,  0.93676816,  0.91988769,\n",
       "        0.87593226,  0.71994396,  0.52058544,  0.94243783,  0.96721937,\n",
       "        0.90879074,  0.65105651,  0.84416123,  0.98020914,  0.30763726,\n",
       "        0.93474545,  0.86540193,  0.17500503,  0.51178652,  0.82648811,\n",
       "        0.79564245,  0.99664748,  0.7570304 ,  0.32782221,  0.91587424,\n",
       "        0.69682857,  0.75254901,  0.82522072,  0.68243487,  0.74316694,\n",
       "       -0.31811594,  0.88997027,  0.89620858, -0.3929471 ,  0.92076817,\n",
       "        0.5846091 , -0.72425534,  0.71709281,  0.83779027,  0.76977719,\n",
       "        0.6872159 ,  0.92364725,  0.4510799 ,  0.42864718,  0.81154337,\n",
       "        0.86076708,  0.84888393,  0.60023684,  0.82788134,  0.94018402,\n",
       "        0.88597354, -0.60692101,  0.93489618,  0.79248626,  0.23221177,\n",
       "        0.70694742,  0.45244146,  0.67528949,  0.84134755,  0.95943705,\n",
       "        0.5843174 ,  0.71654401, -0.27607034,  0.18605773,  0.85744704,\n",
       "        0.6476983 ,  0.9549503 ,  0.57485836,  0.10770088,  0.95907999,\n",
       "        0.76474004,  0.73527156,  0.82740913,  0.80277108,  0.83069676,\n",
       "        0.65333913,  0.67269002,  0.56062589,  0.89403563,  0.95789111,\n",
       "       -0.40520275,  0.07176063,  0.94621762, -0.58141686,  0.61695514,\n",
       "        0.89099312,  0.86091441,  0.88361265,  0.70769313,  0.54443421,\n",
       "       -0.16562668,  0.67134803,  0.90255814,  0.90459384,  0.89885375,\n",
       "        0.96285464,  0.73868548,  0.13943001,  0.88183277,  0.86820029,\n",
       "        0.85495748,  0.92196258,  0.97118747,  0.9379234 ,  0.90235948,\n",
       "        0.91423529,  0.95796057,  0.07306558,  0.92219616,  0.56048761,\n",
       "        0.75992776,  0.71428062,  0.88859982,  0.89185588, -0.46556104,\n",
       "        0.65436648,  0.84110482,  0.85765004,  0.92465267,  0.6903843 ,\n",
       "        0.81660881,  0.90813675,  0.76957729,  0.71418766,  0.6890602 ,\n",
       "        0.96879368,  0.69926402,  0.86417523,  0.90039339,  0.60579291,\n",
       "        0.80388483, -0.18204155,  0.56698721,  0.63396895,  0.95524604,\n",
       "        0.58095524,  0.02421437,  0.88494295,  0.92346948,  0.7292399 ,\n",
       "        0.74702398,  0.97896851,  0.9244201 ,  0.98485987,  0.63662786,\n",
       "        0.83081485,  0.94002778,  0.80004023,  0.85219082,  0.58688238,\n",
       "        0.86111328,  0.94338683,  0.70032273,  0.73848755,  0.97245423,\n",
       "        0.82705248,  0.92713693,  0.95059708,  0.94390831,  0.17646597,\n",
       "        0.62955465,  0.92344789,  0.90279518, -0.02557439,  0.8445292 ,\n",
       "        0.61800614,  0.90961357,  0.76441173,  0.74106057,  0.88026452,\n",
       "        0.73131399,  0.72485604,  0.96728306,  0.97860478,  0.896728  ,\n",
       "        0.84890155,  0.46668125,  0.88853801,  0.62236614,  0.54769876,\n",
       "        0.73344167, -0.18766828,  0.9320021 ,  0.97166569,  0.69642647,\n",
       "        0.80010804,  0.53175956,  0.88617449,  0.70739063, -0.45784068,\n",
       "        0.53860778,  0.78855538,  0.15032481,  0.88159952,  0.86658871,\n",
       "        0.85563069,  0.775825  ,  0.67498462,  0.83934015,  0.84912313,\n",
       "        0.87857931,  0.73920114,  0.70560921,  0.36751994,  0.90290833,\n",
       "        0.80376997,  0.31811456,  0.91699691,  0.73222314,  0.64274162,\n",
       "        0.74770297,  0.80863117,  0.89121247,  0.84773849, -0.49653815,\n",
       "        0.82825975,  0.95492586,  0.87168195,  0.66142097,  0.80509501,\n",
       "        0.88018422,  0.82887134,  0.93238208,  0.69385198,  0.88520034,\n",
       "        0.86050968,  0.86164838,  0.32173398,  0.82676026,  0.60891043,\n",
       "        0.5466211 ,  0.27160275,  0.92912103,  0.49167476,  0.89001906,\n",
       "        0.47308925,  0.95847949,  0.74322182,  0.38860469,  0.27682658,\n",
       "        0.93203777,  0.55833045,  0.90998616,  0.49542819,  0.92054444,\n",
       "        0.86169397,  0.84334627,  0.90661499,  0.88599397,  0.88586847,\n",
       "        0.62707948,  0.77059573,  0.8334158 ,  0.81604573,  0.68406032,\n",
       "        0.8021926 ,  0.41616953,  0.33027189,  0.15569829,  0.2545646 ,\n",
       "        0.17909658,  0.63153984, -0.05880069,  0.89856399,  0.74478356,\n",
       "        0.17298963,  0.04817026,  0.29698993,  0.62021585,  0.59731418,\n",
       "        0.77994335, -0.13590145,  0.9335421 ,  0.84507662,  0.85782497,\n",
       "        0.92518494,  0.87062909,  0.75656847,  0.33195785,  0.96467906,\n",
       "        0.52530836,  0.88187205,  0.70798387,  0.92556288,  0.83581074,\n",
       "        0.7202751 ,  0.93658983,  0.61278295,  0.58237956,  0.40935907,\n",
       "        0.85813657,  0.72533589,  0.43507889,  0.82264236,  0.50066935,\n",
       "        0.22744002,  0.81642186,  0.98106515,  0.86252472,  0.74452723,\n",
       "        0.37142908,  0.8601788 ,  0.14451139,  0.93676049,  0.79314869,\n",
       "        0.50509349,  0.95378284,  0.94297635,  0.8973696 ,  0.8984462 ,\n",
       "        0.80612799,  0.73324289,  0.11099552,  0.70409875,  0.78432012,\n",
       "        0.85379685,  0.85283831,  0.97582846,  0.71592053,  0.92714113,\n",
       "        0.70718119,  0.76803381,  0.92867161,  0.34794306,  0.87114536,\n",
       "        0.39248314,  0.98103663,  0.89134149,  0.89219267,  0.47762263,\n",
       "        0.89387869,  0.93560337,  0.59899283,  0.8730372 ,  0.23804127,\n",
       "        0.82999906,  0.82602958,  0.91593514,  0.61470401, -0.30096651,\n",
       "        0.91622001,  0.84838992,  0.62772213,  0.46532384,  0.26505574,\n",
       "        0.78048917,  0.0728994 ,  0.77613202,  0.60843693,  0.97852628,\n",
       "        0.85046986,  0.94962916,  0.92456924,  0.4743426 ,  0.60635395,\n",
       "        0.60132617,  0.75172346,  0.96689049,  0.85914528,  0.8561485 ,\n",
       "        0.63162742,  0.8216103 ,  0.96502359,  0.76921541,  0.0674496 ,\n",
       "        0.71291699,  0.95601351,  0.90472846,  0.97502629,  0.65811016,\n",
       "       -0.21025107,  0.98503496,  0.95350901,  0.08161862,  0.78909997,\n",
       "        0.81611712,  0.7021864 ,  0.49608591,  0.62339887,  0.94465026,\n",
       "        0.82083208,  0.36571759,  0.93267079,  0.99214281,  0.55068873,\n",
       "        0.72576857,  0.74756286,  0.95406356,  0.02351597,  0.47091491,\n",
       "        0.96232954, -0.24105319,  0.87090466,  0.03944853,  0.86305309,\n",
       "        0.9364335 ,  0.85961321,  0.78988467,  0.9529332 ,  0.54785522,\n",
       "        0.07670588,  0.3055644 , -0.16457722,  0.88236293,  0.65617192,\n",
       "        0.91629267,  0.82166832,  0.88402064,  0.14455792,  0.77071298,\n",
       "        0.99393151,  0.89064019,  0.78160186,  0.60948795,  0.84536305,\n",
       "        0.72046309,  0.93565135,  0.89503498,  0.94881434,  0.95692231,\n",
       "        0.94491168,  0.7692353 ,  0.7491348 ,  0.92546458,  0.93050938,\n",
       "        0.8759517 ,  0.67742373,  0.9526256 ,  0.14824482,  0.46098699,\n",
       "        0.93516576,  0.94349857, -0.00610637,  0.65528135,  0.89999678,\n",
       "       -0.05438595, -0.20287732,  0.74370801,  0.20208011,  0.57407756,\n",
       "        0.9500094 ,  0.90939448,  0.89134717,  0.74858683,  0.3662353 ,\n",
       "        0.69876667,  0.90294836,  0.62505281,  0.88517777,  0.49708005,\n",
       "        0.7541663 ,  0.88359619,  0.66032297, -0.50988368,  0.71218657,\n",
       "        0.91823993,  0.7099276 ,  0.87150091,  0.62976596, -0.45595069,\n",
       "        0.86763443,  0.96491157,  0.60215694,  0.9804626 ,  0.80346277,\n",
       "        0.11688535,  0.56594132,  0.8926989 ,  0.72810025,  0.3227691 ,\n",
       "        0.62492186,  0.93500681,  0.36408249,  0.67095738,  0.92361335,\n",
       "        0.59102468,  0.11458779,  0.82006045,  0.85838091,  0.76585751,\n",
       "        0.60106939,  0.48552196,  0.89346443,  0.91217512,  0.7688637 ,\n",
       "        0.72200917,  0.90875741,  0.4152743 ,  0.85615412,  0.77122911,\n",
       "        0.77043969,  0.92458712,  0.56255409,  0.93625174,  0.16523011,\n",
       "        0.61206923,  0.87152077,  0.90739699,  0.79670553,  0.34533624,\n",
       "        0.74333897,  0.71157324,  0.77919917,  0.80260314,  0.90351963,\n",
       "        0.69390069,  0.82683403,  0.87240811,  0.52537237,  0.81932206,\n",
       "       -0.00172994,  0.75288731,  0.86456853,  0.93451338,  0.91943626,\n",
       "        0.72237214,  0.89940658,  0.16033137,  0.86905112,  0.80346298,\n",
       "        0.90900377,  0.75247631,  0.68468826,  0.84297286,  0.82700907,\n",
       "        0.85889338,  0.8657982 ,  0.93400309,  0.93362358,  0.71087364,\n",
       "        0.5483125 ,  0.55467724,  0.93311184,  0.59424301,  0.85126719,\n",
       "        0.83188936,  0.96362465])"
      ]
     },
     "execution_count": 114,
     "metadata": {},
     "output_type": "execute_result"
    }
   ],
   "source": [
    "diff = temp[:,-2] - temp[:,-1]\n",
    "diff"
   ]
  },
  {
   "cell_type": "code",
   "execution_count": 117,
   "metadata": {},
   "outputs": [
    {
     "data": {
      "text/plain": [
       "good    613\n",
       "bad      54\n",
       "dtype: int64"
      ]
     },
     "execution_count": 117,
     "metadata": {},
     "output_type": "execute_result"
    }
   ],
   "source": [
    "pd.Series(np.where(diff < 0.10,'bad','good')).value_counts()"
   ]
  },
  {
   "cell_type": "code",
   "execution_count": 127,
   "metadata": {},
   "outputs": [
    {
     "data": {
      "text/plain": [
       "0.08095952023988005"
      ]
     },
     "execution_count": 127,
     "metadata": {},
     "output_type": "execute_result"
    }
   ],
   "source": [
    "54/667"
   ]
  },
  {
   "cell_type": "code",
   "execution_count": 98,
   "metadata": {},
   "outputs": [
    {
     "data": {
      "text/plain": [
       "array([[0.87472839, 0.12527161],\n",
       "       [0.97911498, 0.02088502],\n",
       "       [0.72952683, 0.27047317],\n",
       "       ...,\n",
       "       [0.92563359, 0.07436641],\n",
       "       [0.91594468, 0.08405532],\n",
       "       [0.98181232, 0.01818768]])"
      ]
     },
     "execution_count": 98,
     "metadata": {},
     "output_type": "execute_result"
    }
   ],
   "source": [
    "temp\n",
    "# if the probability of no churn > 0.5, no churn, churn"
   ]
  },
  {
   "cell_type": "code",
   "execution_count": 120,
   "metadata": {},
   "outputs": [],
   "source": [
    "pred_y_60 = np.where(temp[:,-2] > 0.6, 0,1)"
   ]
  },
  {
   "cell_type": "code",
   "execution_count": 121,
   "metadata": {},
   "outputs": [
    {
     "data": {
      "text/plain": [
       "array([[547,  36],\n",
       "       [ 49,  35]], dtype=int64)"
      ]
     },
     "execution_count": 121,
     "metadata": {},
     "output_type": "execute_result"
    }
   ],
   "source": [
    "confusion_matrix(ytest,pred_y_60)"
   ]
  },
  {
   "cell_type": "code",
   "execution_count": 122,
   "metadata": {},
   "outputs": [
    {
     "name": "stdout",
     "output_type": "stream",
     "text": [
      "             precision    recall  f1-score   support\n",
      "\n",
      "          0       0.92      0.94      0.93       583\n",
      "          1       0.49      0.42      0.45        84\n",
      "\n",
      "avg / total       0.86      0.87      0.87       667\n",
      "\n"
     ]
    }
   ],
   "source": [
    "print(classification_report(ytest,pred_y_60))"
   ]
  },
  {
   "cell_type": "code",
   "execution_count": 125,
   "metadata": {},
   "outputs": [
    {
     "data": {
      "text/plain": [
       "array([[524,  59],\n",
       "       [ 42,  42]], dtype=int64)"
      ]
     },
     "execution_count": 125,
     "metadata": {},
     "output_type": "execute_result"
    }
   ],
   "source": [
    "# since this is reducing the overall accuracy and without improving the class 1 (churn) accuracy,\n",
    "# fallback, this step should not be pursued\n",
    "pred_y_70 = np.where(temp[:,-2] > 0.7, 0,1)\n",
    "confusion_matrix(ytest,pred_y_70)"
   ]
  },
  {
   "cell_type": "code",
   "execution_count": 126,
   "metadata": {},
   "outputs": [
    {
     "name": "stdout",
     "output_type": "stream",
     "text": [
      "             precision    recall  f1-score   support\n",
      "\n",
      "          0       0.93      0.90      0.91       583\n",
      "          1       0.42      0.50      0.45        84\n",
      "\n",
      "avg / total       0.86      0.85      0.85       667\n",
      "\n"
     ]
    }
   ],
   "source": [
    "print(classification_report(ytest,pred_y_70))"
   ]
  },
  {
   "cell_type": "code",
   "execution_count": 106,
   "metadata": {},
   "outputs": [],
   "source": [
    "pred_y = model.predict(xtest)"
   ]
  },
  {
   "cell_type": "code",
   "execution_count": 107,
   "metadata": {},
   "outputs": [
    {
     "data": {
      "text/plain": [
       "array([[565,  18],\n",
       "       [ 64,  20]], dtype=int64)"
      ]
     },
     "execution_count": 107,
     "metadata": {},
     "output_type": "execute_result"
    }
   ],
   "source": [
    "confusion_matrix(ytest,pred_y)"
   ]
  },
  {
   "cell_type": "code",
   "execution_count": 112,
   "metadata": {},
   "outputs": [
    {
     "name": "stdout",
     "output_type": "stream",
     "text": [
      "             precision    recall  f1-score   support\n",
      "\n",
      "          0       0.90      0.97      0.93       583\n",
      "          1       0.53      0.24      0.33        84\n",
      "\n",
      "avg / total       0.85      0.88      0.86       667\n",
      "\n"
     ]
    }
   ],
   "source": [
    "print(classification_report(ytest,pred_y))"
   ]
  },
  {
   "cell_type": "code",
   "execution_count": 102,
   "metadata": {},
   "outputs": [
    {
     "data": {
      "text/html": [
       "<div>\n",
       "<style scoped>\n",
       "    .dataframe tbody tr th:only-of-type {\n",
       "        vertical-align: middle;\n",
       "    }\n",
       "\n",
       "    .dataframe tbody tr th {\n",
       "        vertical-align: top;\n",
       "    }\n",
       "\n",
       "    .dataframe thead th {\n",
       "        text-align: right;\n",
       "    }\n",
       "</style>\n",
       "<table border=\"1\" class=\"dataframe\">\n",
       "  <thead>\n",
       "    <tr style=\"text-align: right;\">\n",
       "      <th></th>\n",
       "      <th>account_length</th>\n",
       "      <th>number_vmail_messages</th>\n",
       "      <th>total_day_minutes</th>\n",
       "      <th>total_day_calls</th>\n",
       "      <th>total_day_charge</th>\n",
       "      <th>total_eve_minutes</th>\n",
       "      <th>total_eve_calls</th>\n",
       "      <th>total_eve_charge</th>\n",
       "      <th>total_night_minutes</th>\n",
       "      <th>total_night_calls</th>\n",
       "      <th>total_night_charge</th>\n",
       "      <th>total_intl_minutes</th>\n",
       "      <th>total_intl_calls</th>\n",
       "      <th>total_intl_charge</th>\n",
       "      <th>number_customer_service_calls</th>\n",
       "      <th>state_tr</th>\n",
       "      <th>area_code_tr</th>\n",
       "      <th>int_plan_dum</th>\n",
       "      <th>voic_mail_dum</th>\n",
       "      <th>target_churn_dum</th>\n",
       "    </tr>\n",
       "  </thead>\n",
       "  <tbody>\n",
       "    <tr>\n",
       "      <th>0</th>\n",
       "      <td>128</td>\n",
       "      <td>25</td>\n",
       "      <td>265.1</td>\n",
       "      <td>110</td>\n",
       "      <td>45.07</td>\n",
       "      <td>197.4</td>\n",
       "      <td>99</td>\n",
       "      <td>16.78</td>\n",
       "      <td>244.7</td>\n",
       "      <td>91</td>\n",
       "      <td>11.01</td>\n",
       "      <td>10.0</td>\n",
       "      <td>3</td>\n",
       "      <td>2.70</td>\n",
       "      <td>1</td>\n",
       "      <td>16</td>\n",
       "      <td>1</td>\n",
       "      <td>0</td>\n",
       "      <td>1</td>\n",
       "      <td>0</td>\n",
       "    </tr>\n",
       "    <tr>\n",
       "      <th>1</th>\n",
       "      <td>107</td>\n",
       "      <td>26</td>\n",
       "      <td>161.6</td>\n",
       "      <td>123</td>\n",
       "      <td>27.47</td>\n",
       "      <td>195.5</td>\n",
       "      <td>103</td>\n",
       "      <td>16.62</td>\n",
       "      <td>254.4</td>\n",
       "      <td>103</td>\n",
       "      <td>11.45</td>\n",
       "      <td>13.7</td>\n",
       "      <td>3</td>\n",
       "      <td>3.70</td>\n",
       "      <td>1</td>\n",
       "      <td>35</td>\n",
       "      <td>1</td>\n",
       "      <td>0</td>\n",
       "      <td>1</td>\n",
       "      <td>0</td>\n",
       "    </tr>\n",
       "    <tr>\n",
       "      <th>2</th>\n",
       "      <td>137</td>\n",
       "      <td>0</td>\n",
       "      <td>243.4</td>\n",
       "      <td>114</td>\n",
       "      <td>41.38</td>\n",
       "      <td>121.2</td>\n",
       "      <td>110</td>\n",
       "      <td>10.30</td>\n",
       "      <td>162.6</td>\n",
       "      <td>104</td>\n",
       "      <td>7.32</td>\n",
       "      <td>12.2</td>\n",
       "      <td>5</td>\n",
       "      <td>3.29</td>\n",
       "      <td>0</td>\n",
       "      <td>31</td>\n",
       "      <td>1</td>\n",
       "      <td>0</td>\n",
       "      <td>0</td>\n",
       "      <td>0</td>\n",
       "    </tr>\n",
       "    <tr>\n",
       "      <th>3</th>\n",
       "      <td>84</td>\n",
       "      <td>0</td>\n",
       "      <td>299.4</td>\n",
       "      <td>71</td>\n",
       "      <td>50.90</td>\n",
       "      <td>61.9</td>\n",
       "      <td>88</td>\n",
       "      <td>5.26</td>\n",
       "      <td>196.9</td>\n",
       "      <td>89</td>\n",
       "      <td>8.86</td>\n",
       "      <td>6.6</td>\n",
       "      <td>7</td>\n",
       "      <td>1.78</td>\n",
       "      <td>2</td>\n",
       "      <td>35</td>\n",
       "      <td>0</td>\n",
       "      <td>1</td>\n",
       "      <td>0</td>\n",
       "      <td>0</td>\n",
       "    </tr>\n",
       "    <tr>\n",
       "      <th>4</th>\n",
       "      <td>75</td>\n",
       "      <td>0</td>\n",
       "      <td>166.7</td>\n",
       "      <td>113</td>\n",
       "      <td>28.34</td>\n",
       "      <td>148.3</td>\n",
       "      <td>122</td>\n",
       "      <td>12.61</td>\n",
       "      <td>186.9</td>\n",
       "      <td>121</td>\n",
       "      <td>8.41</td>\n",
       "      <td>10.1</td>\n",
       "      <td>3</td>\n",
       "      <td>2.73</td>\n",
       "      <td>3</td>\n",
       "      <td>36</td>\n",
       "      <td>1</td>\n",
       "      <td>1</td>\n",
       "      <td>0</td>\n",
       "      <td>0</td>\n",
       "    </tr>\n",
       "  </tbody>\n",
       "</table>\n",
       "</div>"
      ],
      "text/plain": [
       "   account_length  number_vmail_messages  total_day_minutes  total_day_calls  \\\n",
       "0             128                     25              265.1              110   \n",
       "1             107                     26              161.6              123   \n",
       "2             137                      0              243.4              114   \n",
       "3              84                      0              299.4               71   \n",
       "4              75                      0              166.7              113   \n",
       "\n",
       "   total_day_charge  total_eve_minutes  total_eve_calls  total_eve_charge  \\\n",
       "0             45.07              197.4               99             16.78   \n",
       "1             27.47              195.5              103             16.62   \n",
       "2             41.38              121.2              110             10.30   \n",
       "3             50.90               61.9               88              5.26   \n",
       "4             28.34              148.3              122             12.61   \n",
       "\n",
       "   total_night_minutes  total_night_calls  total_night_charge  \\\n",
       "0                244.7                 91               11.01   \n",
       "1                254.4                103               11.45   \n",
       "2                162.6                104                7.32   \n",
       "3                196.9                 89                8.86   \n",
       "4                186.9                121                8.41   \n",
       "\n",
       "   total_intl_minutes  total_intl_calls  total_intl_charge  \\\n",
       "0                10.0                 3               2.70   \n",
       "1                13.7                 3               3.70   \n",
       "2                12.2                 5               3.29   \n",
       "3                 6.6                 7               1.78   \n",
       "4                10.1                 3               2.73   \n",
       "\n",
       "   number_customer_service_calls  state_tr  area_code_tr  int_plan_dum  \\\n",
       "0                              1        16             1             0   \n",
       "1                              1        35             1             0   \n",
       "2                              0        31             1             0   \n",
       "3                              2        35             0             1   \n",
       "4                              3        36             1             1   \n",
       "\n",
       "   voic_mail_dum  target_churn_dum  \n",
       "0              1                 0  \n",
       "1              1                 0  \n",
       "2              0                 0  \n",
       "3              0                 0  \n",
       "4              0                 0  "
      ]
     },
     "execution_count": 102,
     "metadata": {},
     "output_type": "execute_result"
    }
   ],
   "source": [
    "df_train.head()"
   ]
  },
  {
   "cell_type": "code",
   "execution_count": 88,
   "metadata": {},
   "outputs": [
    {
     "data": {
      "text/plain": [
       "array([[-0.  ,  0.02,  0.01, -0.  ,  0.01,  0.01, -0.01, -0.01,  0.  ,\n",
       "        -0.  , -0.  ,  0.04, -0.12,  0.03,  0.47,  0.  , -0.07,  2.02,\n",
       "        -1.53]])"
      ]
     },
     "execution_count": 88,
     "metadata": {},
     "output_type": "execute_result"
    }
   ],
   "source": [
    "np.round(model.coef_,2)"
   ]
  },
  {
   "cell_type": "code",
   "execution_count": null,
   "metadata": {},
   "outputs": [],
   "source": []
  }
 ],
 "metadata": {
  "kernelspec": {
   "display_name": "Python 3",
   "language": "python",
   "name": "python3"
  },
  "language_info": {
   "codemirror_mode": {
    "name": "ipython",
    "version": 3
   },
   "file_extension": ".py",
   "mimetype": "text/x-python",
   "name": "python",
   "nbconvert_exporter": "python",
   "pygments_lexer": "ipython3",
   "version": "3.6.5"
  }
 },
 "nbformat": 4,
 "nbformat_minor": 2
}
